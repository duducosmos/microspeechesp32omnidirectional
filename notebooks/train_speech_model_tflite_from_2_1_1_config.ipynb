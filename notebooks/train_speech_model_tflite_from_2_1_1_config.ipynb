{
  "nbformat": 4,
  "nbformat_minor": 0,
  "metadata": {
    "colab": {
      "name": "train_speech_model_tflite_from_2_1_1.ipynb",
      "provenance": [],
      "collapsed_sections": []
    },
    "kernelspec": {
      "name": "python3",
      "display_name": "Python 3.8.10 64-bit ('env': venv)"
    },
    "accelerator": "GPU",
    "interpreter": {
      "hash": "e3cdd25bae4d6734f598cdc1da10666a96a818509dcc1e74084b813f636ca1af"
    }
  },
  "cells": [
    {
      "cell_type": "markdown",
      "metadata": {
        "id": "pO4-CY_TCZZS"
      },
      "source": [
        "# Train a Simple Audio Recognition model for microcontroller use"
      ]
    },
    {
      "cell_type": "markdown",
      "metadata": {
        "id": "BaFfr7DHRmGF"
      },
      "source": [
        "This notebook demonstrates how to train a 20kb [Simple Audio Recognition](https://www.tensorflow.org/tutorials/sequences/audio_recognition) model for [TensorFlow Lite for Microcontrollers](https://tensorflow.org/lite/microcontrollers/overview). It will produce the same model used in the [micro_speech](https://github.com/tensorflow/tensorflow/tree/master/tensorflow/lite/experimental/micro/examples/micro_speech) example application.\n",
        "\n",
        "The model is designed to be used with [Google Colaboratory](https://colab.research.google.com).\n",
        "\n",
        "<table class=\"tfo-notebook-buttons\" align=\"left\">\n",
        "  <td>\n",
        "    <a target=\"_blank\" href=\"https://colab.research.google.com/github/tensorflow/tensorflow/blob/master/tensorflow/lite/experimental/micro/examples/micro_speech/train_speech_model.ipynb\"><img src=\"https://www.tensorflow.org/images/colab_logo_32px.png\" />Run in Google Colab</a>\n",
        "  </td>\n",
        "  <td>\n",
        "    <a target=\"_blank\" href=\"https://github.com/tensorflow/tensorflow/blob/master/tensorflow/lite/experimental/micro/examples/micro_speech/train_speech_model.ipynb\"><img src=\"https://www.tensorflow.org/images/GitHub-Mark-32px.png\" />View source on GitHub</a>\n",
        "  </td>\n",
        "</table>\n"
      ]
    },
    {
      "cell_type": "markdown",
      "metadata": {
        "id": "XaVtYN4nlCft"
      },
      "source": [
        "The notebook runs Python scripts to train and freeze the model, and uses the TensorFlow Lite converter to convert it for use with TensorFlow Lite for Microcontrollers.\n",
        "\n",
        "**Training is much faster using GPU acceleration.** Before you proceed, ensure you are using a GPU runtime by going to **Runtime -> Change runtime type** and selecting **GPU**. Training 18,000 iterations will take 1.5-2 hours on a GPU runtime.\n",
        "\n"
      ]
    },
    {
      "cell_type": "markdown",
      "metadata": {
        "id": "gCgeOpvY9pAi"
      },
      "source": [
        "## Install dependencies\n",
        "\n",
        "Next, we'll install a GPU build of TensorFlow, so we can use GPU acceleration for training."
      ]
    },
    {
      "cell_type": "code",
      "metadata": {
        "id": "Nd1iM1o2ymvA",
        "colab": {
          "base_uri": "https://localhost:8080/"
        },
        "outputId": "6efee6c2-41c8-4e30-890f-79256a2f0c68"
      },
      "source": [
        "# Replace Colab's default TensorFlow install with a more recent\n",
        "# build that contains the operations that are needed for training\n",
        "!pip uninstall -y tensorflow-probability tensorflow tensorflow_estimator tensorboard kapre\n",
        "\n"
      ],
      "execution_count": 2,
      "outputs": [
        {
          "output_type": "stream",
          "name": "stdout",
          "text": [
            "\u001b[33mWARNING: Skipping tensorflow-probability as it is not installed.\u001b[0m\n",
            "\u001b[33mWARNING: Skipping tensorflow as it is not installed.\u001b[0m\n",
            "\u001b[33mWARNING: Skipping tensorflow-estimator as it is not installed.\u001b[0m\n",
            "\u001b[33mWARNING: Skipping tensorboard as it is not installed.\u001b[0m\n",
            "\u001b[33mWARNING: Skipping kapre as it is not installed.\u001b[0m\n"
          ]
        }
      ]
    },
    {
      "cell_type": "code",
      "metadata": {
        "colab": {
          "base_uri": "https://localhost:8080/"
        },
        "id": "ag6TvWf7Qh8c",
        "outputId": "de2411ca-2c5b-4cdd-f4df-7ac4774a5f77"
      },
      "source": [
        "%tensorflow_version 1.x\n"
      ],
      "execution_count": 3,
      "outputs": [
        {
          "output_type": "stream",
          "name": "stderr",
          "text": [
            "UsageError: Line magic function `%tensorflow_version` not found.\n"
          ]
        }
      ]
    },
    {
      "cell_type": "code",
      "metadata": {
        "colab": {
          "base_uri": "https://localhost:8080/"
        },
        "id": "_UCsPeRcPl4M",
        "outputId": "fa818110-7d7e-4ac3-ff92-f65c1e21cfc9"
      },
      "source": [
        "!pip uninstall -y tensorflow-probability tensorflow tensorflow_estimator tensorboard kapre\n"
      ],
      "execution_count": 4,
      "outputs": [
        {
          "output_type": "stream",
          "name": "stdout",
          "text": [
            "\u001b[33mWARNING: Skipping tensorflow-probability as it is not installed.\u001b[0m\n",
            "\u001b[33mWARNING: Skipping tensorflow as it is not installed.\u001b[0m\n",
            "\u001b[33mWARNING: Skipping tensorflow-estimator as it is not installed.\u001b[0m\n",
            "\u001b[33mWARNING: Skipping tensorboard as it is not installed.\u001b[0m\n",
            "\u001b[33mWARNING: Skipping kapre as it is not installed.\u001b[0m\n"
          ]
        }
      ]
    },
    {
      "cell_type": "code",
      "metadata": {
        "colab": {
          "base_uri": "https://localhost:8080/"
        },
        "id": "2zU4SkbDdPnc",
        "outputId": "83730b0a-a8d7-41bd-e786-798972ff76b8"
      },
      "source": [
        "!pip install  tensorflow-gpu==1.15 tensorflow-probability==0.7.0 tensorflow_estimator==1.15.1"
      ],
      "execution_count": 1,
      "outputs": [
        {
          "output_type": "stream",
          "name": "stdout",
          "text": [
            "Collecting tensorflow-gpu==1.15\n",
            "\u001b[33m  WARNING: Retrying (Retry(total=4, connect=None, read=None, redirect=None, status=None)) after connection broken by 'ReadTimeoutError(\"HTTPSConnectionPool(host='files.pythonhosted.org', port=443): Read timed out. (read timeout=15)\",)': /packages/a5/ad/933140e74973fb917a194ab814785e7c23680ca5dee6d663a509fe9579b6/tensorflow_gpu-1.15.0-cp36-cp36m-manylinux2010_x86_64.whl\u001b[0m\n",
            "  Downloading tensorflow_gpu-1.15.0-cp36-cp36m-manylinux2010_x86_64.whl (411.5 MB)\n",
            "\u001b[K     |████████████████████████████████| 411.5 MB 1.3 kB/s \n",
            "\u001b[?25hCollecting tensorflow-probability==0.7.0\n",
            "  Downloading tensorflow_probability-0.7.0-py2.py3-none-any.whl (981 kB)\n",
            "\u001b[K     |████████████████████████████████| 981 kB 25.6 MB/s \n",
            "\u001b[?25hCollecting tensorflow_estimator==1.15.1\n",
            "  Downloading tensorflow_estimator-1.15.1-py2.py3-none-any.whl (503 kB)\n",
            "\u001b[K     |████████████████████████████████| 503 kB 23.5 MB/s \n",
            "\u001b[?25hCollecting protobuf>=3.6.1\n",
            "  Downloading protobuf-3.17.3-cp36-cp36m-manylinux_2_5_x86_64.manylinux1_x86_64.whl (1.0 MB)\n",
            "\u001b[K     |████████████████████████████████| 1.0 MB 26.3 MB/s \n",
            "\u001b[?25hCollecting opt-einsum>=2.3.2\n",
            "  Using cached opt_einsum-3.3.0-py3-none-any.whl (65 kB)\n",
            "Collecting gast==0.2.2\n",
            "  Downloading gast-0.2.2.tar.gz (10 kB)\n",
            "Requirement already satisfied: six>=1.10.0 in ./env/lib/python3.6/site-packages (from tensorflow-gpu==1.15) (1.16.0)\n",
            "Collecting grpcio>=1.8.6\n",
            "  Downloading grpcio-1.38.1-cp36-cp36m-manylinux2014_x86_64.whl (4.2 MB)\n",
            "\u001b[K     |████████████████████████████████| 4.2 MB 19 kB/s \n",
            "\u001b[?25hCollecting absl-py>=0.7.0\n",
            "  Downloading absl_py-0.13.0-py3-none-any.whl (132 kB)\n",
            "\u001b[K     |████████████████████████████████| 132 kB 60 kB/s \n",
            "\u001b[?25hCollecting astor>=0.6.0\n",
            "  Downloading astor-0.8.1-py2.py3-none-any.whl (27 kB)\n",
            "Collecting google-pasta>=0.1.6\n",
            "  Using cached google_pasta-0.2.0-py3-none-any.whl (57 kB)\n",
            "Collecting keras-applications>=1.0.8\n",
            "  Using cached Keras_Applications-1.0.8-py3-none-any.whl (50 kB)\n",
            "Requirement already satisfied: wheel>=0.26 in ./env/lib/python3.6/site-packages (from tensorflow-gpu==1.15) (0.34.2)\n",
            "Collecting wrapt>=1.11.1\n",
            "  Using cached wrapt-1.12.1.tar.gz (27 kB)\n",
            "Collecting numpy<2.0,>=1.16.0\n",
            "  Downloading numpy-1.19.5-cp36-cp36m-manylinux2010_x86_64.whl (14.8 MB)\n",
            "\u001b[K     |████████████████████████████████| 14.8 MB 32 kB/s \n",
            "\u001b[?25hCollecting termcolor>=1.1.0\n",
            "  Using cached termcolor-1.1.0.tar.gz (3.9 kB)\n",
            "Collecting tensorboard<1.16.0,>=1.15.0\n",
            "  Downloading tensorboard-1.15.0-py3-none-any.whl (3.8 MB)\n",
            "\u001b[K     |████████████████████████████████| 3.8 MB 31 kB/s \n",
            "\u001b[?25hCollecting keras-preprocessing>=1.0.5\n",
            "  Using cached Keras_Preprocessing-1.1.2-py2.py3-none-any.whl (42 kB)\n",
            "Collecting cloudpickle>=0.6.1\n",
            "  Downloading cloudpickle-1.6.0-py3-none-any.whl (23 kB)\n",
            "Requirement already satisfied: decorator in ./env/lib/python3.6/site-packages (from tensorflow-probability==0.7.0) (5.0.9)\n",
            "Collecting h5py\n",
            "  Downloading h5py-3.1.0-cp36-cp36m-manylinux1_x86_64.whl (4.0 MB)\n",
            "\u001b[K     |████████████████████████████████| 4.0 MB 58 kB/s \n",
            "\u001b[?25hCollecting markdown>=2.6.8\n",
            "  Using cached Markdown-3.3.4-py3-none-any.whl (97 kB)\n",
            "Requirement already satisfied: setuptools>=41.0.0 in ./env/lib/python3.6/site-packages (from tensorboard<1.16.0,>=1.15.0->tensorflow-gpu==1.15) (44.0.0)\n",
            "Collecting werkzeug>=0.11.15\n",
            "  Using cached Werkzeug-2.0.1-py3-none-any.whl (288 kB)\n",
            "Collecting cached-property; python_version < \"3.8\"\n",
            "  Using cached cached_property-1.5.2-py2.py3-none-any.whl (7.6 kB)\n",
            "Collecting importlib-metadata; python_version < \"3.8\"\n",
            "  Using cached importlib_metadata-4.6.1-py3-none-any.whl (17 kB)\n",
            "Collecting dataclasses; python_version < \"3.7\"\n",
            "  Downloading dataclasses-0.8-py3-none-any.whl (19 kB)\n",
            "Collecting zipp>=0.5\n",
            "  Using cached zipp-3.5.0-py3-none-any.whl (5.7 kB)\n",
            "Collecting typing-extensions>=3.6.4; python_version < \"3.8\"\n",
            "  Using cached typing_extensions-3.10.0.0-py3-none-any.whl (26 kB)\n",
            "Building wheels for collected packages: gast, wrapt, termcolor\n",
            "  Building wheel for gast (setup.py) ... \u001b[?25ldone\n",
            "\u001b[?25h  Created wheel for gast: filename=gast-0.2.2-py3-none-any.whl size=7539 sha256=a0efb69f3baf35ce9a2449ea7d412f44406cb6a0a99ca650c541abbbb19eccd2\n",
            "  Stored in directory: /home/eduardo/.cache/pip/wheels/19/a7/b9/0740c7a3a7d1d348f04823339274b90de25fbcd217b2ee1fbe\n",
            "  Building wheel for wrapt (setup.py) ... \u001b[?25ldone\n",
            "\u001b[?25h  Created wheel for wrapt: filename=wrapt-1.12.1-py3-none-any.whl size=19553 sha256=3c845f49c9a4ce225b5cd9ef7b41949a4082bb5ed18d9171bd3389c4a4a56d27\n",
            "  Stored in directory: /home/eduardo/.cache/pip/wheels/32/42/7f/23cae9ff6ef66798d00dc5d659088e57dbba01566f6c60db63\n",
            "  Building wheel for termcolor (setup.py) ... \u001b[?25ldone\n",
            "\u001b[?25h  Created wheel for termcolor: filename=termcolor-1.1.0-py3-none-any.whl size=4830 sha256=837a5f754ba8d59ba87ed04d027aa8a12f060a12915602193a8540bcf71794f5\n",
            "  Stored in directory: /home/eduardo/.cache/pip/wheels/93/2a/eb/e58dbcbc963549ee4f065ff80a59f274cc7210b6eab962acdc\n",
            "Successfully built gast wrapt termcolor\n",
            "Installing collected packages: protobuf, numpy, opt-einsum, gast, grpcio, absl-py, astor, google-pasta, cached-property, h5py, keras-applications, tensorflow-estimator, wrapt, termcolor, zipp, typing-extensions, importlib-metadata, markdown, dataclasses, werkzeug, tensorboard, keras-preprocessing, tensorflow-gpu, cloudpickle, tensorflow-probability\n",
            "Successfully installed absl-py-0.13.0 astor-0.8.1 cached-property-1.5.2 cloudpickle-1.6.0 dataclasses-0.8 gast-0.2.2 google-pasta-0.2.0 grpcio-1.38.1 h5py-3.1.0 importlib-metadata-4.6.1 keras-applications-1.0.8 keras-preprocessing-1.1.2 markdown-3.3.4 numpy-1.19.5 opt-einsum-3.3.0 protobuf-3.17.3 tensorboard-1.15.0 tensorflow-estimator-1.15.1 tensorflow-gpu-1.15.0 tensorflow-probability-0.7.0 termcolor-1.1.0 typing-extensions-3.10.0.0 werkzeug-2.0.1 wrapt-1.12.1 zipp-3.5.0\n"
          ]
        }
      ]
    },
    {
      "cell_type": "code",
      "metadata": {
        "colab": {
          "base_uri": "https://localhost:8080/"
        },
        "id": "zWQD4uU9K_CD",
        "outputId": "1211877f-e3a8-4eb9-bb7b-15cb004bfe86"
      },
      "source": [
        "%tensorflow_version 1.x\n",
        "\n",
        "import tensorflow as tf\n",
        "print(tf.version.VERSION)"
      ],
      "execution_count": 5,
      "outputs": [
        {
          "output_type": "stream",
          "text": [
            "1.15.0\n"
          ],
          "name": "stdout"
        }
      ]
    },
    {
      "cell_type": "markdown",
      "metadata": {
        "id": "T9Ty5mR58E4i"
      },
      "source": [
        "We'll also clone the TensorFlow repository, which contains the scripts that train and freeze the model."
      ]
    },
    {
      "cell_type": "code",
      "metadata": {
        "id": "APGx0fEh7hFF",
        "colab": {
          "base_uri": "https://localhost:8080/"
        },
        "outputId": "1b6b95ec-3f50-4d7c-a1ba-1927430f3ea7",
        "tags": [
          "outputPrepend"
        ]
      },
      "source": [
        "# Clone the repository from GitHub\n",
        "# !git clone -q https://github.com/tensorflow/tensorflow\n",
        "# # Check out a commit that has been tested to work\n",
        "# # with the build of TensorFlow we're using\n",
        "# !git -c advice.detachedHead=false -C tensorflow checkout 17ce384df70\n",
        "\n",
        "# !git clone -q --depth 1 https://github.com/tensorflow/tensorflow\n",
        "!rm -rf tensorflow\n",
        "!wget https://github.com/tensorflow/tensorflow/archive/v1.15.0.tar.gz\n",
        "!tar zxvf v1.15.0.tar.gz\n",
        "!mv tensorflow-1.15.0 tensorflow\n"
      ],
      "execution_count": 2,
      "outputs": [
        {
          "output_type": "stream",
          "name": "stdout",
          "text": [
            "15.0/third_party/png.BUILD\n",
            "tensorflow-1.15.0/third_party/png_fix_rpi.patch\n",
            "tensorflow-1.15.0/third_party/pprof.BUILD\n",
            "tensorflow-1.15.0/third_party/protobuf/\n",
            "tensorflow-1.15.0/third_party/protobuf/BUILD\n",
            "tensorflow-1.15.0/third_party/protobuf/protobuf.patch\n",
            "tensorflow-1.15.0/third_party/py/\n",
            "tensorflow-1.15.0/third_party/py/BUILD\n",
            "tensorflow-1.15.0/third_party/py/BUILD.tpl\n",
            "tensorflow-1.15.0/third_party/py/numpy/\n",
            "tensorflow-1.15.0/third_party/py/numpy/BUILD\n",
            "tensorflow-1.15.0/third_party/py/python_configure.bzl\n",
            "tensorflow-1.15.0/third_party/pybind11.BUILD\n",
            "tensorflow-1.15.0/third_party/python_runtime/\n",
            "tensorflow-1.15.0/third_party/python_runtime/BUILD\n",
            "tensorflow-1.15.0/third_party/repo.bzl\n",
            "tensorflow-1.15.0/third_party/rocprim.BUILD\n",
            "tensorflow-1.15.0/third_party/six.BUILD\n",
            "tensorflow-1.15.0/third_party/snappy.BUILD\n",
            "tensorflow-1.15.0/third_party/sqlite.BUILD\n",
            "tensorflow-1.15.0/third_party/swig.BUILD\n",
            "tensorflow-1.15.0/third_party/sycl/\n",
            "tensorflow-1.15.0/third_party/sycl/BUILD\n",
            "tensorflow-1.15.0/third_party/sycl/crosstool/\n",
            "tensorflow-1.15.0/third_party/sycl/crosstool/BUILD\n",
            "tensorflow-1.15.0/third_party/sycl/crosstool/BUILD.tpl\n",
            "tensorflow-1.15.0/third_party/sycl/crosstool/CROSSTOOL.tpl\n",
            "tensorflow-1.15.0/third_party/sycl/crosstool/computecpp.tpl\n",
            "tensorflow-1.15.0/third_party/sycl/crosstool/trisycl.tpl\n",
            "tensorflow-1.15.0/third_party/sycl/sycl/\n",
            "tensorflow-1.15.0/third_party/sycl/sycl/BUILD\n",
            "tensorflow-1.15.0/third_party/sycl/sycl/BUILD.tpl\n",
            "tensorflow-1.15.0/third_party/sycl/sycl/LICENSE.text\n",
            "tensorflow-1.15.0/third_party/sycl/sycl/build_defs.bzl.tpl\n",
            "tensorflow-1.15.0/third_party/sycl/sycl/platform.bzl.tpl\n",
            "tensorflow-1.15.0/third_party/sycl/sycl_configure.bzl\n",
            "tensorflow-1.15.0/third_party/systemlibs/\n",
            "tensorflow-1.15.0/third_party/systemlibs/BUILD\n",
            "tensorflow-1.15.0/third_party/systemlibs/BUILD.tpl\n",
            "tensorflow-1.15.0/third_party/systemlibs/absl_py.BUILD\n",
            "tensorflow-1.15.0/third_party/systemlibs/absl_py.absl.BUILD\n",
            "tensorflow-1.15.0/third_party/systemlibs/absl_py.absl.flags.BUILD\n",
            "tensorflow-1.15.0/third_party/systemlibs/absl_py.absl.testing.BUILD\n",
            "tensorflow-1.15.0/third_party/systemlibs/astor.BUILD\n",
            "tensorflow-1.15.0/third_party/systemlibs/boringssl.BUILD\n",
            "tensorflow-1.15.0/third_party/systemlibs/build_defs.bzl.tpl\n",
            "tensorflow-1.15.0/third_party/systemlibs/curl.BUILD\n",
            "tensorflow-1.15.0/third_party/systemlibs/cython.BUILD\n",
            "tensorflow-1.15.0/third_party/systemlibs/double_conversion.BUILD\n",
            "tensorflow-1.15.0/third_party/systemlibs/enum34.BUILD\n",
            "tensorflow-1.15.0/third_party/systemlibs/gast.BUILD\n",
            "tensorflow-1.15.0/third_party/systemlibs/gif.BUILD\n",
            "tensorflow-1.15.0/third_party/systemlibs/google_cloud_cpp.BUILD\n",
            "tensorflow-1.15.0/third_party/systemlibs/google_cloud_cpp.google.cloud.bigtable.BUILD\n",
            "tensorflow-1.15.0/third_party/systemlibs/googleapis.BUILD\n",
            "tensorflow-1.15.0/third_party/systemlibs/grpc.BUILD\n",
            "tensorflow-1.15.0/third_party/systemlibs/jsoncpp.BUILD\n",
            "tensorflow-1.15.0/third_party/systemlibs/lmdb.BUILD\n",
            "tensorflow-1.15.0/third_party/systemlibs/nsync.BUILD\n",
            "tensorflow-1.15.0/third_party/systemlibs/opt_einsum.BUILD\n",
            "tensorflow-1.15.0/third_party/systemlibs/pcre.BUILD\n",
            "tensorflow-1.15.0/third_party/systemlibs/png.BUILD\n",
            "tensorflow-1.15.0/third_party/systemlibs/protobuf.BUILD\n",
            "tensorflow-1.15.0/third_party/systemlibs/protobuf.bzl\n",
            "tensorflow-1.15.0/third_party/systemlibs/re2.BUILD\n",
            "tensorflow-1.15.0/third_party/systemlibs/six.BUILD\n",
            "tensorflow-1.15.0/third_party/systemlibs/snappy.BUILD\n",
            "tensorflow-1.15.0/third_party/systemlibs/sqlite.BUILD\n",
            "tensorflow-1.15.0/third_party/systemlibs/swig.BUILD\n",
            "tensorflow-1.15.0/third_party/systemlibs/syslibs_configure.bzl\n",
            "tensorflow-1.15.0/third_party/systemlibs/termcolor.BUILD\n",
            "tensorflow-1.15.0/third_party/systemlibs/wrapt.BUILD\n",
            "tensorflow-1.15.0/third_party/systemlibs/zlib.BUILD\n",
            "tensorflow-1.15.0/third_party/tensorrt/\n",
            "tensorflow-1.15.0/third_party/tensorrt/BUILD\n",
            "tensorflow-1.15.0/third_party/tensorrt/BUILD.tpl\n",
            "tensorflow-1.15.0/third_party/tensorrt/LICENSE\n",
            "tensorflow-1.15.0/third_party/tensorrt/build_defs.bzl.tpl\n",
            "tensorflow-1.15.0/third_party/tensorrt/tensorrt/\n",
            "tensorflow-1.15.0/third_party/tensorrt/tensorrt/include/\n",
            "tensorflow-1.15.0/third_party/tensorrt/tensorrt/include/tensorrt_config.h.tpl\n",
            "tensorflow-1.15.0/third_party/tensorrt/tensorrt_configure.bzl\n",
            "tensorflow-1.15.0/third_party/termcolor.BUILD\n",
            "tensorflow-1.15.0/third_party/tflite_mobilenet.BUILD\n",
            "tensorflow-1.15.0/third_party/tflite_mobilenet_float.BUILD\n",
            "tensorflow-1.15.0/third_party/tflite_mobilenet_quant.BUILD\n",
            "tensorflow-1.15.0/third_party/tflite_ovic_testdata.BUILD\n",
            "tensorflow-1.15.0/third_party/tflite_smartreply.BUILD\n",
            "tensorflow-1.15.0/third_party/toolchains/\n",
            "tensorflow-1.15.0/third_party/toolchains/BUILD\n",
            "tensorflow-1.15.0/third_party/toolchains/clang6/\n",
            "tensorflow-1.15.0/third_party/toolchains/clang6/BUILD\n",
            "tensorflow-1.15.0/third_party/toolchains/clang6/CROSSTOOL.tpl\n",
            "tensorflow-1.15.0/third_party/toolchains/clang6/README.md\n",
            "tensorflow-1.15.0/third_party/toolchains/clang6/clang.BUILD\n",
            "tensorflow-1.15.0/third_party/toolchains/clang6/repo.bzl\n",
            "tensorflow-1.15.0/third_party/toolchains/cpus/\n",
            "tensorflow-1.15.0/third_party/toolchains/cpus/arm/\n",
            "tensorflow-1.15.0/third_party/toolchains/cpus/arm/BUILD\n",
            "tensorflow-1.15.0/third_party/toolchains/cpus/arm/arm_compiler_configure.bzl\n",
            "tensorflow-1.15.0/third_party/toolchains/cpus/arm/cc_config.bzl.tpl\n",
            "tensorflow-1.15.0/third_party/toolchains/cpus/py/\n",
            "tensorflow-1.15.0/third_party/toolchains/cpus/py/BUILD\n",
            "tensorflow-1.15.0/third_party/toolchains/cpus/py3/\n",
            "tensorflow-1.15.0/third_party/toolchains/cpus/py3/BUILD\n",
            "tensorflow-1.15.0/third_party/toolchains/preconfig/\n",
            "tensorflow-1.15.0/third_party/toolchains/preconfig/centos6/\n",
            "tensorflow-1.15.0/third_party/toolchains/preconfig/centos6/cuda10.0-cudnn7/\n",
            "tensorflow-1.15.0/third_party/toolchains/preconfig/centos6/cuda10.0-cudnn7/WORKSPACE\n",
            "tensorflow-1.15.0/third_party/toolchains/preconfig/centos6/cuda10.0-cudnn7/cuda/\n",
            "tensorflow-1.15.0/third_party/toolchains/preconfig/centos6/cuda10.0-cudnn7/cuda/BUILD\n",
            "tensorflow-1.15.0/third_party/toolchains/preconfig/centos6/cuda10.0-cudnn7/cuda/build_defs.bzl\n",
            "tensorflow-1.15.0/third_party/toolchains/preconfig/centos6/cuda10.0-cudnn7/cuda/cuda/\n",
            "tensorflow-1.15.0/third_party/toolchains/preconfig/centos6/cuda10.0-cudnn7/cuda/cuda/cuda_config.h\n",
            "tensorflow-1.15.0/third_party/toolchains/preconfig/centos6/cuda10.1-cudnn7/\n",
            "tensorflow-1.15.0/third_party/toolchains/preconfig/centos6/cuda10.1-cudnn7/WORKSPACE\n",
            "tensorflow-1.15.0/third_party/toolchains/preconfig/centos6/cuda10.1-cudnn7/cuda/\n",
            "tensorflow-1.15.0/third_party/toolchains/preconfig/centos6/cuda10.1-cudnn7/cuda/BUILD\n",
            "tensorflow-1.15.0/third_party/toolchains/preconfig/centos6/cuda10.1-cudnn7/cuda/build_defs.bzl\n",
            "tensorflow-1.15.0/third_party/toolchains/preconfig/centos6/cuda10.1-cudnn7/cuda/cuda/\n",
            "tensorflow-1.15.0/third_party/toolchains/preconfig/centos6/cuda10.1-cudnn7/cuda/cuda/cuda_config.h\n",
            "tensorflow-1.15.0/third_party/toolchains/preconfig/centos6/gcc7-nvcc-cuda10.0/\n",
            "tensorflow-1.15.0/third_party/toolchains/preconfig/centos6/gcc7-nvcc-cuda10.0/BUILD\n",
            "tensorflow-1.15.0/third_party/toolchains/preconfig/centos6/gcc7-nvcc-cuda10.0/CROSSTOOL\n",
            "tensorflow-1.15.0/third_party/toolchains/preconfig/centos6/gcc7-nvcc-cuda10.0/cc_toolchain_config.bzl\n",
            "tensorflow-1.15.0/third_party/toolchains/preconfig/centos6/gcc7-nvcc-cuda10.0/clang/\n",
            "tensorflow-1.15.0/third_party/toolchains/preconfig/centos6/gcc7-nvcc-cuda10.0/clang/bin/\n",
            "tensorflow-1.15.0/third_party/toolchains/preconfig/centos6/gcc7-nvcc-cuda10.0/clang/bin/crosstool_wrapper_driver_is_not_gcc\n",
            "tensorflow-1.15.0/third_party/toolchains/preconfig/centos6/gcc7-nvcc-cuda10.0/windows/\n",
            "tensorflow-1.15.0/third_party/toolchains/preconfig/centos6/gcc7-nvcc-cuda10.0/windows/msvc_wrapper_for_nvcc.py\n",
            "tensorflow-1.15.0/third_party/toolchains/preconfig/centos6/gcc7-nvcc-cuda10.1/\n",
            "tensorflow-1.15.0/third_party/toolchains/preconfig/centos6/gcc7-nvcc-cuda10.1/BUILD\n",
            "tensorflow-1.15.0/third_party/toolchains/preconfig/centos6/gcc7-nvcc-cuda10.1/cc_toolchain_config.bzl\n",
            "tensorflow-1.15.0/third_party/toolchains/preconfig/centos6/gcc7-nvcc-cuda10.1/clang/\n",
            "tensorflow-1.15.0/third_party/toolchains/preconfig/centos6/gcc7-nvcc-cuda10.1/clang/bin/\n",
            "tensorflow-1.15.0/third_party/toolchains/preconfig/centos6/gcc7-nvcc-cuda10.1/clang/bin/crosstool_wrapper_driver_is_not_gcc\n",
            "tensorflow-1.15.0/third_party/toolchains/preconfig/centos6/gcc7-nvcc-cuda10.1/windows/\n",
            "tensorflow-1.15.0/third_party/toolchains/preconfig/centos6/gcc7-nvcc-cuda10.1/windows/msvc_wrapper_for_nvcc.py\n",
            "tensorflow-1.15.0/third_party/toolchains/preconfig/centos6/gcc7/\n",
            "tensorflow-1.15.0/third_party/toolchains/preconfig/centos6/gcc7/BUILD\n",
            "tensorflow-1.15.0/third_party/toolchains/preconfig/centos6/gcc7/WORKSPACE\n",
            "tensorflow-1.15.0/third_party/toolchains/preconfig/centos6/gcc7/cc_toolchain_config.bzl\n",
            "tensorflow-1.15.0/third_party/toolchains/preconfig/centos6/gcc7/cc_wrapper.sh\n",
            "tensorflow-1.15.0/third_party/toolchains/preconfig/centos6/gcc7/dummy_toolchain.bzl\n",
            "tensorflow-1.15.0/third_party/toolchains/preconfig/centos6/gcc7/tools/\n",
            "tensorflow-1.15.0/third_party/toolchains/preconfig/centos6/gcc7/tools/cpp/\n",
            "tensorflow-1.15.0/third_party/toolchains/preconfig/centos6/gcc7/tools/cpp/empty.cc\n",
            "tensorflow-1.15.0/third_party/toolchains/preconfig/centos6/py/\n",
            "tensorflow-1.15.0/third_party/toolchains/preconfig/centos6/py/BUILD\n",
            "tensorflow-1.15.0/third_party/toolchains/preconfig/centos6/py/WORKSPACE\n",
            "tensorflow-1.15.0/third_party/toolchains/preconfig/centos6/py3/\n",
            "tensorflow-1.15.0/third_party/toolchains/preconfig/centos6/py3/BUILD\n",
            "tensorflow-1.15.0/third_party/toolchains/preconfig/centos6/py3/WORKSPACE\n",
            "tensorflow-1.15.0/third_party/toolchains/preconfig/centos6/tensorrt5/\n",
            "tensorflow-1.15.0/third_party/toolchains/preconfig/centos6/tensorrt5/BUILD\n",
            "tensorflow-1.15.0/third_party/toolchains/preconfig/centos6/tensorrt5/LICENSE\n",
            "tensorflow-1.15.0/third_party/toolchains/preconfig/centos6/tensorrt5/WORKSPACE\n",
            "tensorflow-1.15.0/third_party/toolchains/preconfig/centos6/tensorrt5/build_defs.bzl\n",
            "tensorflow-1.15.0/third_party/toolchains/preconfig/centos6/tensorrt5/tensorrt/\n",
            "tensorflow-1.15.0/third_party/toolchains/preconfig/centos6/tensorrt5/tensorrt/include/\n",
            "tensorflow-1.15.0/third_party/toolchains/preconfig/centos6/tensorrt5/tensorrt/include/tensorrt_config.h\n",
            "tensorflow-1.15.0/third_party/toolchains/preconfig/generate/\n",
            "tensorflow-1.15.0/third_party/toolchains/preconfig/generate/BUILD\n",
            "tensorflow-1.15.0/third_party/toolchains/preconfig/generate/archives.bzl\n",
            "tensorflow-1.15.0/third_party/toolchains/preconfig/generate/containers.bzl\n",
            "tensorflow-1.15.0/third_party/toolchains/preconfig/generate/generate.bzl\n",
            "tensorflow-1.15.0/third_party/toolchains/preconfig/generate/generate.sh\n",
            "tensorflow-1.15.0/third_party/toolchains/preconfig/generate/workspace.bzl\n",
            "tensorflow-1.15.0/third_party/toolchains/preconfig/ubuntu14.04/\n",
            "tensorflow-1.15.0/third_party/toolchains/preconfig/ubuntu14.04/cuda10.0-cudnn7/\n",
            "tensorflow-1.15.0/third_party/toolchains/preconfig/ubuntu14.04/cuda10.0-cudnn7/WORKSPACE\n",
            "tensorflow-1.15.0/third_party/toolchains/preconfig/ubuntu14.04/cuda10.0-cudnn7/cuda/\n",
            "tensorflow-1.15.0/third_party/toolchains/preconfig/ubuntu14.04/cuda10.0-cudnn7/cuda/BUILD\n",
            "tensorflow-1.15.0/third_party/toolchains/preconfig/ubuntu14.04/cuda10.0-cudnn7/cuda/build_defs.bzl\n",
            "tensorflow-1.15.0/third_party/toolchains/preconfig/ubuntu14.04/cuda10.0-cudnn7/cuda/cuda/\n",
            "tensorflow-1.15.0/third_party/toolchains/preconfig/ubuntu14.04/cuda10.0-cudnn7/cuda/cuda/cuda_config.h\n",
            "tensorflow-1.15.0/third_party/toolchains/preconfig/ubuntu14.04/gcc-nvcc-cuda10.0/\n",
            "tensorflow-1.15.0/third_party/toolchains/preconfig/ubuntu14.04/gcc-nvcc-cuda10.0/BUILD\n",
            "tensorflow-1.15.0/third_party/toolchains/preconfig/ubuntu14.04/gcc-nvcc-cuda10.0/cc_toolchain_config.bzl\n",
            "tensorflow-1.15.0/third_party/toolchains/preconfig/ubuntu14.04/gcc-nvcc-cuda10.0/clang/\n",
            "tensorflow-1.15.0/third_party/toolchains/preconfig/ubuntu14.04/gcc-nvcc-cuda10.0/clang/bin/\n",
            "tensorflow-1.15.0/third_party/toolchains/preconfig/ubuntu14.04/gcc-nvcc-cuda10.0/clang/bin/crosstool_wrapper_driver_is_not_gcc\n",
            "tensorflow-1.15.0/third_party/toolchains/preconfig/ubuntu14.04/gcc-nvcc-cuda10.0/windows/\n",
            "tensorflow-1.15.0/third_party/toolchains/preconfig/ubuntu14.04/gcc-nvcc-cuda10.0/windows/msvc_wrapper_for_nvcc.bat\n",
            "tensorflow-1.15.0/third_party/toolchains/preconfig/ubuntu14.04/gcc-nvcc-cuda10.0/windows/msvc_wrapper_for_nvcc.py\n",
            "tensorflow-1.15.0/third_party/toolchains/preconfig/ubuntu14.04/py3/\n",
            "tensorflow-1.15.0/third_party/toolchains/preconfig/ubuntu14.04/py3/BUILD\n",
            "tensorflow-1.15.0/third_party/toolchains/preconfig/ubuntu14.04/py3/WORKSPACE\n",
            "tensorflow-1.15.0/third_party/toolchains/preconfig/ubuntu14.04/tensorrt5/\n",
            "tensorflow-1.15.0/third_party/toolchains/preconfig/ubuntu14.04/tensorrt5/BUILD\n",
            "tensorflow-1.15.0/third_party/toolchains/preconfig/ubuntu14.04/tensorrt5/LICENSE\n",
            "tensorflow-1.15.0/third_party/toolchains/preconfig/ubuntu14.04/tensorrt5/WORKSPACE\n",
            "tensorflow-1.15.0/third_party/toolchains/preconfig/ubuntu14.04/tensorrt5/build_defs.bzl\n",
            "tensorflow-1.15.0/third_party/toolchains/preconfig/ubuntu14.04/tensorrt5/tensorrt/\n",
            "tensorflow-1.15.0/third_party/toolchains/preconfig/ubuntu14.04/tensorrt5/tensorrt/include/\n",
            "tensorflow-1.15.0/third_party/toolchains/preconfig/ubuntu14.04/tensorrt5/tensorrt/include/tensorrt_config.h\n",
            "tensorflow-1.15.0/third_party/toolchains/preconfig/ubuntu16.04/\n",
            "tensorflow-1.15.0/third_party/toolchains/preconfig/ubuntu16.04/clang/\n",
            "tensorflow-1.15.0/third_party/toolchains/preconfig/ubuntu16.04/clang/BUILD\n",
            "tensorflow-1.15.0/third_party/toolchains/preconfig/ubuntu16.04/clang/WORKSPACE\n",
            "tensorflow-1.15.0/third_party/toolchains/preconfig/ubuntu16.04/clang/cc_toolchain_config.bzl\n",
            "tensorflow-1.15.0/third_party/toolchains/preconfig/ubuntu16.04/clang/cc_wrapper.sh\n",
            "tensorflow-1.15.0/third_party/toolchains/preconfig/ubuntu16.04/clang/dummy_toolchain.bzl\n",
            "tensorflow-1.15.0/third_party/toolchains/preconfig/ubuntu16.04/clang/tools/\n",
            "tensorflow-1.15.0/third_party/toolchains/preconfig/ubuntu16.04/clang/tools/cpp/\n",
            "tensorflow-1.15.0/third_party/toolchains/preconfig/ubuntu16.04/clang/tools/cpp/empty.cc\n",
            "tensorflow-1.15.0/third_party/toolchains/preconfig/ubuntu16.04/cuda10.0-cudnn7/\n",
            "tensorflow-1.15.0/third_party/toolchains/preconfig/ubuntu16.04/cuda10.0-cudnn7/WORKSPACE\n",
            "tensorflow-1.15.0/third_party/toolchains/preconfig/ubuntu16.04/cuda10.0-cudnn7/cuda/\n",
            "tensorflow-1.15.0/third_party/toolchains/preconfig/ubuntu16.04/cuda10.0-cudnn7/cuda/BUILD\n",
            "tensorflow-1.15.0/third_party/toolchains/preconfig/ubuntu16.04/cuda10.0-cudnn7/cuda/build_defs.bzl\n",
            "tensorflow-1.15.0/third_party/toolchains/preconfig/ubuntu16.04/cuda10.0-cudnn7/cuda/cuda/\n",
            "tensorflow-1.15.0/third_party/toolchains/preconfig/ubuntu16.04/cuda10.0-cudnn7/cuda/cuda/cuda_config.h\n",
            "tensorflow-1.15.0/third_party/toolchains/preconfig/ubuntu16.04/gcc5-rocm/\n",
            "tensorflow-1.15.0/third_party/toolchains/preconfig/ubuntu16.04/gcc5-rocm/BUILD\n",
            "tensorflow-1.15.0/third_party/toolchains/preconfig/ubuntu16.04/gcc5-rocm/cc_toolchain_config.bzl\n",
            "tensorflow-1.15.0/third_party/toolchains/preconfig/ubuntu16.04/gcc5-rocm/clang/\n",
            "tensorflow-1.15.0/third_party/toolchains/preconfig/ubuntu16.04/gcc5-rocm/clang/bin/\n",
            "tensorflow-1.15.0/third_party/toolchains/preconfig/ubuntu16.04/gcc5-rocm/clang/bin/crosstool_wrapper_driver_is_not_gcc\n",
            "tensorflow-1.15.0/third_party/toolchains/preconfig/ubuntu16.04/gcc7_manylinux2010-nvcc-cuda10.0/\n",
            "tensorflow-1.15.0/third_party/toolchains/preconfig/ubuntu16.04/gcc7_manylinux2010-nvcc-cuda10.0/BUILD\n",
            "tensorflow-1.15.0/third_party/toolchains/preconfig/ubuntu16.04/gcc7_manylinux2010-nvcc-cuda10.0/cc_toolchain_config.bzl\n",
            "tensorflow-1.15.0/third_party/toolchains/preconfig/ubuntu16.04/gcc7_manylinux2010-nvcc-cuda10.0/clang/\n",
            "tensorflow-1.15.0/third_party/toolchains/preconfig/ubuntu16.04/gcc7_manylinux2010-nvcc-cuda10.0/clang/bin/\n",
            "tensorflow-1.15.0/third_party/toolchains/preconfig/ubuntu16.04/gcc7_manylinux2010-nvcc-cuda10.0/clang/bin/crosstool_wrapper_driver_is_not_gcc\n",
            "tensorflow-1.15.0/third_party/toolchains/preconfig/ubuntu16.04/gcc7_manylinux2010-nvcc-cuda10.0/windows/\n",
            "tensorflow-1.15.0/third_party/toolchains/preconfig/ubuntu16.04/gcc7_manylinux2010-nvcc-cuda10.0/windows/msvc_wrapper_for_nvcc.py\n",
            "tensorflow-1.15.0/third_party/toolchains/preconfig/ubuntu16.04/gcc7_manylinux2010/\n",
            "tensorflow-1.15.0/third_party/toolchains/preconfig/ubuntu16.04/gcc7_manylinux2010/BUILD\n",
            "tensorflow-1.15.0/third_party/toolchains/preconfig/ubuntu16.04/gcc7_manylinux2010/WORKSPACE\n",
            "tensorflow-1.15.0/third_party/toolchains/preconfig/ubuntu16.04/gcc7_manylinux2010/cc_toolchain_config.bzl\n",
            "tensorflow-1.15.0/third_party/toolchains/preconfig/ubuntu16.04/gcc7_manylinux2010/cc_wrapper.sh\n",
            "tensorflow-1.15.0/third_party/toolchains/preconfig/ubuntu16.04/gcc7_manylinux2010/dummy_toolchain.bzl\n",
            "tensorflow-1.15.0/third_party/toolchains/preconfig/ubuntu16.04/gcc7_manylinux2010/tools/\n",
            "tensorflow-1.15.0/third_party/toolchains/preconfig/ubuntu16.04/gcc7_manylinux2010/tools/cpp/\n",
            "tensorflow-1.15.0/third_party/toolchains/preconfig/ubuntu16.04/gcc7_manylinux2010/tools/cpp/empty.cc\n",
            "tensorflow-1.15.0/third_party/toolchains/preconfig/ubuntu16.04/py/\n",
            "tensorflow-1.15.0/third_party/toolchains/preconfig/ubuntu16.04/py/BUILD\n",
            "tensorflow-1.15.0/third_party/toolchains/preconfig/ubuntu16.04/py/WORKSPACE\n",
            "tensorflow-1.15.0/third_party/toolchains/preconfig/ubuntu16.04/py3/\n",
            "tensorflow-1.15.0/third_party/toolchains/preconfig/ubuntu16.04/py3/BUILD\n",
            "tensorflow-1.15.0/third_party/toolchains/preconfig/ubuntu16.04/py3/WORKSPACE\n",
            "tensorflow-1.15.0/third_party/toolchains/preconfig/ubuntu16.04/py3_opt/\n",
            "tensorflow-1.15.0/third_party/toolchains/preconfig/ubuntu16.04/py3_opt/BUILD\n",
            "tensorflow-1.15.0/third_party/toolchains/preconfig/ubuntu16.04/py3_opt/WORKSPACE\n",
            "tensorflow-1.15.0/third_party/toolchains/preconfig/ubuntu16.04/rocm/\n",
            "tensorflow-1.15.0/third_party/toolchains/preconfig/ubuntu16.04/rocm/WORKSPACE\n",
            "tensorflow-1.15.0/third_party/toolchains/preconfig/ubuntu16.04/rocm/rocm/\n",
            "tensorflow-1.15.0/third_party/toolchains/preconfig/ubuntu16.04/rocm/rocm/BUILD\n",
            "tensorflow-1.15.0/third_party/toolchains/preconfig/ubuntu16.04/rocm/rocm/build_defs.bzl\n",
            "tensorflow-1.15.0/third_party/toolchains/preconfig/ubuntu16.04/rocm/rocm/rocm/\n",
            "tensorflow-1.15.0/third_party/toolchains/preconfig/ubuntu16.04/rocm/rocm/rocm/rocm_config.h\n",
            "tensorflow-1.15.0/third_party/toolchains/preconfig/ubuntu16.04/tensorrt5.1/\n",
            "tensorflow-1.15.0/third_party/toolchains/preconfig/ubuntu16.04/tensorrt5.1/BUILD\n",
            "tensorflow-1.15.0/third_party/toolchains/preconfig/ubuntu16.04/tensorrt5.1/WORKSPACE\n",
            "tensorflow-1.15.0/third_party/toolchains/preconfig/ubuntu16.04/tensorrt5.1/build_defs.bzl\n",
            "tensorflow-1.15.0/third_party/toolchains/preconfig/ubuntu16.04/tensorrt5/\n",
            "tensorflow-1.15.0/third_party/toolchains/preconfig/ubuntu16.04/tensorrt5/BUILD\n",
            "tensorflow-1.15.0/third_party/toolchains/preconfig/ubuntu16.04/tensorrt5/LICENSE\n",
            "tensorflow-1.15.0/third_party/toolchains/preconfig/ubuntu16.04/tensorrt5/tensorrt/\n",
            "tensorflow-1.15.0/third_party/toolchains/preconfig/ubuntu16.04/tensorrt5/tensorrt/include/\n",
            "tensorflow-1.15.0/third_party/toolchains/preconfig/ubuntu16.04/tensorrt5/tensorrt/include/tensorrt_config.h\n",
            "tensorflow-1.15.0/third_party/toolchains/preconfig/win_1803/\n",
            "tensorflow-1.15.0/third_party/toolchains/preconfig/win_1803/BUILD\n",
            "tensorflow-1.15.0/third_party/toolchains/preconfig/win_1803/bazel_025/\n",
            "tensorflow-1.15.0/third_party/toolchains/preconfig/win_1803/bazel_025/BUILD\n",
            "tensorflow-1.15.0/third_party/toolchains/preconfig/win_1803/bazel_025/cc_toolchain_config.bzl\n",
            "tensorflow-1.15.0/third_party/toolchains/preconfig/win_1803/bazel_025/dummy_toolchain.bzl\n",
            "tensorflow-1.15.0/third_party/toolchains/preconfig/win_1803/py36/\n",
            "tensorflow-1.15.0/third_party/toolchains/preconfig/win_1803/py36/BUILD\n",
            "tensorflow-1.15.0/third_party/toolchains/remote/\n",
            "tensorflow-1.15.0/third_party/toolchains/remote/BUILD\n",
            "tensorflow-1.15.0/third_party/toolchains/remote/BUILD.tpl\n",
            "tensorflow-1.15.0/third_party/toolchains/remote/configure.bzl\n",
            "tensorflow-1.15.0/third_party/toolchains/remote/execution.bzl.tpl\n",
            "tensorflow-1.15.0/third_party/wrapt.BUILD\n",
            "tensorflow-1.15.0/third_party/zlib.BUILD\n",
            "tensorflow-1.15.0/tools/\n",
            "tensorflow-1.15.0/tools/tf_env_collect.sh\n"
          ]
        }
      ]
    }
  ]
}